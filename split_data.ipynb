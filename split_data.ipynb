{
 "cells": [
  {
   "cell_type": "code",
   "execution_count": 15,
   "metadata": {},
   "outputs": [],
   "source": [
    "import os \n",
    "import glob \n",
    "import random \n",
    "import shutil"
   ]
  },
  {
   "cell_type": "code",
   "execution_count": 26,
   "metadata": {},
   "outputs": [
    {
     "name": "stdout",
     "output_type": "stream",
     "text": [
      "1241292\n"
     ]
    }
   ],
   "source": [
    "all_img_folder = \"/home/ML/clovaAiSTRtraindata/HKdrivingDistanceLMDBtrainImg/train_aug\"\n",
    "train_gt = \"/home/ML/clovaAiSTRtraindata/HKdrivingDistanceLMDBtrainImg/train_aug_v2.txt\"\n",
    "valid_gt = \"/home/ML/clovaAiSTRtraindata/HKdrivingDistanceLMDBvalidImg/valid.txt\"\n",
    "valid_img_folder = \"/home/ML/clovaAiSTRtraindata/HKdrivingDistanceLMDBvalidImg/valid\"\n",
    "\n",
    "final_train_gt = \"/home/ML/clovaAiSTRtraindata/HKdrivingDistanceLMDBtrainImg/train_aug_v3.txt\"\n",
    "final_valid_gt = \"/home/ML/clovaAiSTRtraindata/HKdrivingDistanceLMDBvalidImg/valid_v3.txt\"\n",
    "\n",
    "\n",
    "\n",
    "all_gt = []\n",
    "train_fp = open(train_gt, \"r\")\n",
    "for line in train_fp.readlines():\n",
    "    filename, label = line.rstrip(\"\\n\").split(\"\\t\")\n",
    "    all_gt.append([filename, label])\n",
    "\n",
    "valid_fp = open(valid_gt, \"r\")\n",
    "for line in valid_fp.readlines():\n",
    "    filename, label = line.rstrip(\"\\n\").split(\"\\t\")\n",
    "    all_gt.append([filename, label])\n",
    "\n",
    "n = len(all_gt)\n",
    "print(n)\n",
    "nums_valid = 50000\n",
    "valid_index = random.sample(range(n), nums_valid)\n",
    "\n",
    "for idx in valid_index:\n",
    "    fn, lb = all_gt[idx]\n",
    "    src_image_path = os.path.join(all_img_folder, fn)\n",
    "    dst_image_path = os.path.join(valid_img_folder, fn)\n",
    "    shutil.move(src_image_path, dst_image_path)\n",
    "\n",
    "final_train_fp = open(final_train_gt, \"w\")\n",
    "final_valid_fp = open(final_valid_gt, \"w\")\n",
    "\n",
    "for i, (fn, lb) in enumerate(all_gt):\n",
    "    if i in valid_index:\n",
    "        final_valid_fp.write(\"{}\\t{}\\n\".format(fn, lb))\n",
    "    else:\n",
    "        final_train_fp.write(\"{}\\t{}\\n\".format(fn, lb))\n",
    "\n",
    "train_fp.close()\n",
    "valid_fp.close()\n",
    "final_train_fp.close()\n",
    "final_valid_fp.close() \n",
    "\n",
    "\n"
   ]
  },
  {
   "cell_type": "code",
   "execution_count": 17,
   "metadata": {},
   "outputs": [
    {
     "name": "stdout",
     "output_type": "stream",
     "text": [
      "0 1 2\n",
      "1 4 5\n"
     ]
    }
   ],
   "source": [
    "a = [[1,2], [4,5]]\n",
    "for i, (x, y) in enumerate(a):\n",
    "    print(i, x, y)"
   ]
  },
  {
   "cell_type": "code",
   "execution_count": null,
   "metadata": {},
   "outputs": [],
   "source": []
  }
 ],
 "metadata": {
  "interpreter": {
   "hash": "1f44e8b33311b31f0486965abdbfd1f6b5c1795b2249ba26445a0c7383cc1045"
  },
  "kernelspec": {
   "display_name": "Python 3.8.13 ('fdxReaditGPU2x')",
   "language": "python",
   "name": "python3"
  },
  "language_info": {
   "codemirror_mode": {
    "name": "ipython",
    "version": 3
   },
   "file_extension": ".py",
   "mimetype": "text/x-python",
   "name": "python",
   "nbconvert_exporter": "python",
   "pygments_lexer": "ipython3",
   "version": "3.8.13"
  },
  "orig_nbformat": 4
 },
 "nbformat": 4,
 "nbformat_minor": 2
}
