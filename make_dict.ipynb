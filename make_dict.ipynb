{
 "cells": [
  {
   "cell_type": "code",
   "execution_count": 2,
   "metadata": {},
   "outputs": [],
   "source": [
    "import os\n",
    "import random"
   ]
  },
  {
   "cell_type": "code",
   "execution_count": 6,
   "metadata": {},
   "outputs": [],
   "source": [
    "def distance_generate():\n",
    "    digits = \"0123456789\"\n",
    "    \n",
    "    total_n_list = [1,2,3,4,5,6,7]\n",
    "    weights = [0.1, 0.1, 0.1, 0.2, 0.2, 0.2, 0.1]\n",
    "    n = random.choices(total_n_list, weights)[0]\n",
    "    dist = \"\".join([random.choice(digits) for _ in range(n)])\n",
    "\n",
    "    postfix = random.randint(1, 4)\n",
    "    if postfix == 1:\n",
    "        pass\n",
    "    elif postfix == 2:\n",
    "        dist += \".{}\".format(random.randint(0, 9))\n",
    "    elif postfix == 3:\n",
    "        dist += \".{}\".format(random.randint(0, 9))\n",
    "        dist += random.choice([\"km\", \"KM\",\"Km\", \"kM\"])\n",
    "    else:\n",
    "        dist += random.choice([\"km\", \"KM\",\"Km\", \"kM\"])\n",
    "    return dist     \n",
    "\n",
    "    "
   ]
  },
  {
   "cell_type": "code",
   "execution_count": 11,
   "metadata": {},
   "outputs": [],
   "source": [
    "def distance_generate_v2():\n",
    "    digits = \"0123456789\"\n",
    "    \n",
    "    total_n_list = [1,2,3,4,5,6,7]\n",
    "    weights = [0.1, 0.1, 0.1, 0.2, 0.2, 0.2, 0.1]\n",
    "    n = random.choices(total_n_list, weights)[0]\n",
    "    dist = \"\".join([random.choice(digits) for _ in range(n)])\n",
    "\n",
    "    prefix = random.randint(1, 5)\n",
    "    float_point = False\n",
    "    if prefix == 1:\n",
    "        dist = \"ODO \" + dist\n",
    "    elif prefix == 2:\n",
    "        dist = \"DO \" + dist \n",
    "    elif prefix == 3:\n",
    "        dist = \"O \" + dist \n",
    "    elif prefix == 4:\n",
    "        dist = \"전체 \" + dist \n",
    "    elif prefix == 5:\n",
    "        dist = random.choice([\"TA \", \"TM \"]) + dist \n",
    "        float_point = True \n",
    "\n",
    "    if float_point:\n",
    "        dist += \".{}\".format(random.randint(0, 9))\n",
    "    else:\n",
    "        if random.randint(1,2) == 1:\n",
    "            dist += \".{}\".format(random.randint(0, 9))\n",
    "\n",
    "    postfix = random.randint(1, 2)\n",
    "    if postfix == 1:\n",
    "        pass\n",
    "    else:\n",
    "        dist += random.choice([\"km\",\"Km\"])\n",
    "    return dist     \n"
   ]
  },
  {
   "cell_type": "code",
   "execution_count": 12,
   "metadata": {},
   "outputs": [],
   "source": [
    "dst_path = r\"./distance_v2.txt\"\n",
    "total_cnt = 100000\n",
    "\n",
    "wf = open(dst_path, \"w\", encoding=\"utf8\")\n",
    "for _ in range(total_cnt):\n",
    "    random_num = distance_generate_v2()\n",
    "    #print(random_num)\n",
    "    wf.write(str(random_num) + \"\\n\")\n",
    "\n",
    "wf.close()"
   ]
  },
  {
   "cell_type": "code",
   "execution_count": null,
   "metadata": {},
   "outputs": [],
   "source": []
  }
 ],
 "metadata": {
  "interpreter": {
   "hash": "1f44e8b33311b31f0486965abdbfd1f6b5c1795b2249ba26445a0c7383cc1045"
  },
  "kernelspec": {
   "display_name": "Python 3.8.13 ('fdxReaditGPU2x')",
   "language": "python",
   "name": "python3"
  },
  "language_info": {
   "codemirror_mode": {
    "name": "ipython",
    "version": 3
   },
   "file_extension": ".py",
   "mimetype": "text/x-python",
   "name": "python",
   "nbconvert_exporter": "python",
   "pygments_lexer": "ipython3",
   "version": "3.8.13"
  },
  "orig_nbformat": 4,
  "vscode": {
   "interpreter": {
    "hash": "a3cb88434844d80f64dad8ebcab563dd2bc9251dd6bc4990f7366e420b4c55bb"
   }
  }
 },
 "nbformat": 4,
 "nbformat_minor": 2
}
