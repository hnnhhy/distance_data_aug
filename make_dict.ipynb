{
 "cells": [
  {
   "cell_type": "code",
   "execution_count": 1,
   "metadata": {},
   "outputs": [],
   "source": [
    "import os\n",
    "import random"
   ]
  },
  {
   "cell_type": "code",
   "execution_count": 6,
   "metadata": {},
   "outputs": [],
   "source": [
    "def distance_generate():\n",
    "    digits = \"0123456789\"\n",
    "    \n",
    "    total_n_list = [1,2,3,4,5,6,7]\n",
    "    weights = [0.1, 0.1, 0.1, 0.2, 0.2, 0.2, 0.1]\n",
    "    n = random.choices(total_n_list, weights)[0]\n",
    "    dist = \"\".join([random.choice(digits) for _ in range(n)])\n",
    "\n",
    "    postfix = random.randint(1, 4)\n",
    "    if postfix == 1:\n",
    "        pass\n",
    "    elif postfix == 2:\n",
    "        dist += \".{}\".format(random.randint(0, 9))\n",
    "    elif postfix == 3:\n",
    "        dist += \".{}\".format(random.randint(0, 9))\n",
    "        dist += random.choice([\"km\", \"KM\",\"Km\", \"kM\"])\n",
    "    else:\n",
    "        dist += random.choice([\"km\", \"KM\",\"Km\", \"kM\"])\n",
    "    return dist     \n",
    "\n",
    "    "
   ]
  },
  {
   "cell_type": "code",
   "execution_count": 10,
   "metadata": {},
   "outputs": [],
   "source": [
    "dst_path = r\"./distance.txt\"\n",
    "total_cnt = 10000000\n",
    "\n",
    "wf = open(dst_path, \"w\", encoding=\"utf8\")\n",
    "for _ in range(total_cnt):\n",
    "    random_num = distance_generate()\n",
    "    #print(random_num)\n",
    "    wf.write(str(random_num) + \"\\n\")\n",
    "\n",
    "wf.close()"
   ]
  },
  {
   "cell_type": "code",
   "execution_count": null,
   "metadata": {},
   "outputs": [],
   "source": []
  }
 ],
 "metadata": {
  "kernelspec": {
   "display_name": "Python 3.8.12 ('fdxReaditCPU2x')",
   "language": "python",
   "name": "python3"
  },
  "language_info": {
   "codemirror_mode": {
    "name": "ipython",
    "version": 3
   },
   "file_extension": ".py",
   "mimetype": "text/x-python",
   "name": "python",
   "nbconvert_exporter": "python",
   "pygments_lexer": "ipython3",
   "version": "3.8.12"
  },
  "orig_nbformat": 4,
  "vscode": {
   "interpreter": {
    "hash": "a3cb88434844d80f64dad8ebcab563dd2bc9251dd6bc4990f7366e420b4c55bb"
   }
  }
 },
 "nbformat": 4,
 "nbformat_minor": 2
}
