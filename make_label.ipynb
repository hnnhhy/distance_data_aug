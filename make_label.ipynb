{
 "cells": [
  {
   "cell_type": "code",
   "execution_count": 2,
   "metadata": {},
   "outputs": [],
   "source": [
    "import os \n",
    "import glob\n"
   ]
  },
  {
   "cell_type": "code",
   "execution_count": null,
   "metadata": {},
   "outputs": [],
   "source": [
    "label_path = \"./aug_labels.txt\"\n",
    "\n",
    "fp = open(label_path, \"r\")\n",
    "for fullpath in glob.glob(os.path.join(\"./out\", \"*.*\")):\n",
    "    filename = os.path.basename(fullpath)\n",
    "    lb = filename.split(\"_\")[0]\n",
    "    fp.write(\"{}\\t{}\\n\".format())\n"
   ]
  }
 ],
 "metadata": {
  "kernelspec": {
   "display_name": "Python 3.8.12 ('fdxReaditCPU2x')",
   "language": "python",
   "name": "python3"
  },
  "language_info": {
   "codemirror_mode": {
    "name": "ipython",
    "version": 3
   },
   "file_extension": ".py",
   "mimetype": "text/x-python",
   "name": "python",
   "nbconvert_exporter": "python",
   "pygments_lexer": "ipython3",
   "version": "3.8.12"
  },
  "orig_nbformat": 4,
  "vscode": {
   "interpreter": {
    "hash": "a3cb88434844d80f64dad8ebcab563dd2bc9251dd6bc4990f7366e420b4c55bb"
   }
  }
 },
 "nbformat": 4,
 "nbformat_minor": 2
}
