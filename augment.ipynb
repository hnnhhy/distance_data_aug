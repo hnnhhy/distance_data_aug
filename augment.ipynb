{
 "cells": [
  {
   "cell_type": "code",
   "execution_count": 1,
   "metadata": {},
   "outputs": [],
   "source": [
    "from imgaug import augmenters as iaa\n"
   ]
  },
  {
   "cell_type": "code",
   "execution_count": null,
   "metadata": {},
   "outputs": [],
   "source": [
    "seq = iaa.Sequential([\n",
    "    iaa.MultiplyAndAddToBrightness(),\n",
    "    iaa.MultiplyHueAndSaturation((0.5, 1.5), per_channel=True),\n",
    "    iaa.ChangeColorTemperature((1100, 10000)),\n",
    "    iaa.invert(0.3),\n",
    "    iaa.Dropout(p=(0,0.1), per_channel=0.3)\n",
    "])"
   ]
  },
  {
   "cell_type": "code",
   "execution_count": null,
   "metadata": {},
   "outputs": [],
   "source": [
    "for batch_idx in range(1000):\n",
    "    "
   ]
  }
 ],
 "metadata": {
  "kernelspec": {
   "display_name": "Python 3.8.12 ('fdxReaditCPU2x')",
   "language": "python",
   "name": "python3"
  },
  "language_info": {
   "codemirror_mode": {
    "name": "ipython",
    "version": 3
   },
   "file_extension": ".py",
   "mimetype": "text/x-python",
   "name": "python",
   "nbconvert_exporter": "python",
   "pygments_lexer": "ipython3",
   "version": "3.8.12"
  },
  "orig_nbformat": 4,
  "vscode": {
   "interpreter": {
    "hash": "a3cb88434844d80f64dad8ebcab563dd2bc9251dd6bc4990f7366e420b4c55bb"
   }
  }
 },
 "nbformat": 4,
 "nbformat_minor": 2
}
